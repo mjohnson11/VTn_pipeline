{
 "cells": [
  {
   "cell_type": "markdown",
   "metadata": {},
   "source": [
    "# Responding to a few review comments here:"
   ]
  },
  {
   "cell_type": "markdown",
   "metadata": {},
   "source": [
    "## Looking into our choice to use these 91 mutations\n",
    "Key question: Are mutations less likely to have a fitness effect in our experiment here than in the BYxRM clones?"
   ]
  },
  {
   "cell_type": "code",
   "execution_count": 1,
   "metadata": {},
   "outputs": [
    {
     "name": "stderr",
     "output_type": "stream",
     "text": [
      "/net/fs-desai01/srv/export/desai_lab/share/users/mjohnson/VTn/VTn_pipeline/Analysis/plotting_loading.py:71: RuntimeWarning: Mean of empty slice\n",
      "  anc_s[cond][edge] = np.nanmean(td['s'])\n",
      "/net/fs-desai01/srv/export/desai_lab/share/users/mjohnson/VTn/VTn_pipeline/Analysis/plotting_loading.py:82: RuntimeWarning: Mean of empty slice\n",
      "  anc_s_clones[cond][edge] = np.nanmean(td['s'])\n"
     ]
    }
   ],
   "source": [
    "from plotting_loading import *"
   ]
  },
  {
   "cell_type": "code",
   "execution_count": 2,
   "metadata": {},
   "outputs": [
    {
     "data": {
      "text/plain": [
       "Text(0, 0.5, 'Frequency')"
      ]
     },
     "execution_count": 2,
     "metadata": {},
     "output_type": "execute_result"
    },
    {
     "data": {
      "image/png": "[encoded data removed]",
      "text/plain": [
       "<Figure size 600x400 with 1 Axes>"
      ]
     },
     "metadata": {
      "needs_background": "light"
     },
     "output_type": "display_data"
    }
   ],
   "source": [
    "bin_lefts = [(-16.15+i)*0.015-0.005 for i in range(22)]\n",
    "sn = [i for i in vtn_s['s'] if pd.notnull(i)]\n",
    "so = [i for i in byrm_s['s'] if pd.notnull(i)]\n",
    "f = pl.figure(dpi=100)\n",
    "pl.hist(sn, bins=bin_lefts, label=f'This experiment, measurements with significant effects: {len(vtn_s[vtn_s.sig])/len(vtn_s):.2f}%', histtype=\"step\", color=\"r\", weights=np.ones_like(sn)/float(len(sn)))\n",
    "pl.hist(so, bins=bin_lefts, label=f'Prev experiment, measurements with significant effects: {len(byrm_s[byrm_s.sig])/len(byrm_s):.2f}%', histtype=\"step\", color=\"b\", weights=np.ones_like(so)/float(len(so)))\n",
    "sns.despine()\n",
    "pl.legend(bbox_to_anchor=(1, 1.2), frameon=False)\n",
    "pl.xlabel('s')\n",
    "pl.ylabel('Frequency')"
   ]
  },
  {
   "cell_type": "code",
   "execution_count": 3,
   "metadata": {},
   "outputs": [
    {
     "data": {
      "text/plain": [
       "(11751, 5695, 9329, 5279, 0.4846396051399881, 0.565869868153071)"
      ]
     },
     "execution_count": 3,
     "metadata": {},
     "output_type": "execute_result"
    }
   ],
   "source": [
    "len(byrm_s), len(byrm_s[byrm_s.sig]), len(vtn_s), len(vtn_s[vtn_s.sig]), len(byrm_s[byrm_s.sig])/len(byrm_s), len(vtn_s[vtn_s.sig])/len(vtn_s)"
   ]
  },
  {
   "cell_type": "markdown",
   "metadata": {},
   "source": [
    "### Conclusions: \n",
    "* The 91 mutations studied here are approximately as likely to have fitness effects in this set of clones. While we are certainly only sampling a small number of the total possible mutations, this set of mutations once again maximizes our signal and let's us study interesting cases of epistasis that we wouldn't be able to detect using a large panel of mutations (given limited resources)\n",
    "* Since our strain background (W303) is fairly similar to one of the parents in the cross (BY), this makes sense!"
   ]
  },
  {
   "cell_type": "markdown",
   "metadata": {},
   "source": [
    "## What is the rationale underlying the choice of 0.05 for slope cutoff?"
   ]
  },
  {
   "cell_type": "code",
   "execution_count": 4,
   "metadata": {},
   "outputs": [
    {
     "name": "stdout",
     "output_type": "stream",
     "text": [
      "P1_YPD_30C\n",
      "Mean standard error of s measurement: 0.007254164751948623\n",
      "Fitness range: 0.15283892638401125\n",
      "change in s for a 0.05 slope: 0.007641946319200563\n",
      "P3_SC_37C\n",
      "Mean standard error of s measurement: 0.008855846351425724\n",
      "Fitness range: 0.2804267013604591\n",
      "change in s for a 0.05 slope: 0.014021335068022956\n",
      "P1_SC_37C\n",
      "Mean standard error of s measurement: 0.009796115665321606\n",
      "Fitness range: 0.5241913642782062\n",
      "change in s for a 0.05 slope: 0.026209568213910312\n"
     ]
    }
   ],
   "source": [
    "conditions = ['P1_YPD_30C', 'P3_SC_37C', 'P1_SC_37C']\n",
    "for cond in conditions:\n",
    "    td = vtn_s[vtn_s.Cond==cond]\n",
    "    print(cond)\n",
    "    print('Mean standard error of s measurement:', np.mean(td['stderr']))\n",
    "    print('Fitness range:', np.max(td['Fitness'])-np.min(td['Fitness']))\n",
    "    print('change in s for a 0.05 slope:', (np.max(td['Fitness'])-np.min(td['Fitness']))*0.05)"
   ]
  },
  {
   "cell_type": "markdown",
   "metadata": {},
   "source": [
    "### Conclusion:\n",
    "* In YPD 30C, a mutation with a 0.05 slope will change it's fitness effect by about the mean standard error of our fitness effect measurements, so the entire effect is about in the range of our measurement error. In SC 37C this is a more conservative cutoff, but we will apply it across conditions for consistency"
   ]
  }
 ],
 "metadata": {
  "kernelspec": {
   "display_name": "milo_py37",
   "language": "python",
   "name": "milo_py37"
  },
  "language_info": {
   "codemirror_mode": {
    "name": "ipython",
    "version": 3
   },
   "file_extension": ".py",
   "mimetype": "text/x-python",
   "name": "python",
   "nbconvert_exporter": "python",
   "pygments_lexer": "ipython3",
   "version": "3.7.6"
  }
 },
 "nbformat": 4,
 "nbformat_minor": 4
}
